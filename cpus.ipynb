{
 "cells": [
  {
   "cell_type": "code",
   "execution_count": null,
   "id": "97a7a878",
   "metadata": {},
   "outputs": [],
   "source": [
    "import pandas as pd\n",
    "from matplotlib import pyplot as plt\n",
    "from datetime import datetime as dt\n",
    "import numpy as np"
   ]
  },
  {
   "cell_type": "code",
   "execution_count": null,
   "id": "2e4fb5b7",
   "metadata": {},
   "outputs": [],
   "source": [
    "cpus = pd.read_csv('cpus.csv', index_col=0)"
   ]
  },
  {
   "cell_type": "code",
   "execution_count": null,
   "id": "c9b74955",
   "metadata": {},
   "outputs": [],
   "source": [
    "dates = [dt.strptime(d, '%Y%m%d') for d in cpus.columns]"
   ]
  },
  {
   "cell_type": "code",
   "execution_count": null,
   "id": "3e6b27a2",
   "metadata": {},
   "outputs": [],
   "source": [
    "colors = [\n",
    "    'tab:blue',\n",
    "    'tab:orange',\n",
    "    'tab:green',\n",
    "    'tab:red',\n",
    "    'tab:purple',\n",
    "    'tab:brown',\n",
    "    'tab:pink',\n",
    "    'tab:gray',\n",
    "    'tab:olive',\n",
    "    'tab:cyan',\n",
    "    'rosybrown',\n",
    "    'bisque',\n",
    "    'fuchsia',\n",
    "    'yellow',\n",
    "    'lime'\n",
    "]"
   ]
  },
  {
   "cell_type": "code",
   "execution_count": null,
   "id": "fa44b006",
   "metadata": {},
   "outputs": [],
   "source": [
    "for col in cpus.columns:\n",
    "    interesting = cpus[col][cpus[col] != 0]\n",
    "    if interesting.size > 0:\n",
    "        unique, counts = np.unique_counts(interesting)\n",
    "        if np.any(counts > 1):\n",
    "            print(col)"
   ]
  },
  {
   "cell_type": "code",
   "execution_count": null,
   "id": "a669365a",
   "metadata": {},
   "outputs": [],
   "source": [
    "cpus['20241102']"
   ]
  },
  {
   "cell_type": "code",
   "execution_count": null,
   "id": "65b139a4",
   "metadata": {},
   "outputs": [],
   "source": [
    "px = 1/plt.rcParams['figure.dpi']  # pixel in inches\n",
    "fig = plt.figure(figsize=(1920*px, 1080*px))\n",
    "ax = fig.add_subplot(111)\n",
    "for i, (this_serial, row) in enumerate(cpus.iterrows()):\n",
    "    row_to_plot = row.replace(0, float('nan'))\n",
    "    color = colors[i]\n",
    "    ax.scatter(dates, row_to_plot, label=this_serial, color=color)\n",
    "    median_date = np.median(np.array(dates)[~np.isnan(row_to_plot)].astype('datetime64[D]').astype(float)).astype('datetime64[D]')\n",
    "    median_sensor = np.median(row_to_plot[~np.isnan(row_to_plot)])\n",
    "    ax.text(median_date, median_sensor, this_serial, fontsize=12, ha='center', va='center', color='k')\n",
    "ax.set_xlabel('Date')\n",
    "ax.set_ylabel('Sensor Number')\n",
    "ax.legend()\n",
    "ax.grid()"
   ]
  }
 ],
 "metadata": {
  "kernelspec": {
   "display_name": "homework",
   "language": "python",
   "name": "python3"
  },
  "language_info": {
   "codemirror_mode": {
    "name": "ipython",
    "version": 3
   },
   "file_extension": ".py",
   "mimetype": "text/x-python",
   "name": "python",
   "nbconvert_exporter": "python",
   "pygments_lexer": "ipython3",
   "version": "3.13.5"
  }
 },
 "nbformat": 4,
 "nbformat_minor": 5
}
